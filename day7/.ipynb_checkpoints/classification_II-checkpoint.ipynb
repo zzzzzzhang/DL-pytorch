{
 "cells": [
  {
   "cell_type": "code",
   "execution_count": null,
   "metadata": {},
   "outputs": [],
   "source": [
    "# 在本节notebook中，使用后续设置的参数在完整训练集上训练模型，大致需要40-50分钟\n",
    "# 请大家合理安排GPU时长，尽量只在训练时切换到GPU资源\n",
    "# 也可以在Kaggle上访问本节notebook：\n",
    "# https://www.kaggle.com/boyuai/boyu-d2l-dog-breed-identification-imagenet-dogs\n",
    "import torch\n",
    "import torch.nn as nn\n",
    "import torch.optim as optim\n",
    "import torchvision\n",
    "import torchvision.transforms as transforms\n",
    "import torchvision.models as models\n",
    "import os\n",
    "import shutil\n",
    "import time\n",
    "import pandas as pd\n",
    "import random"
   ]
  },
  {
   "cell_type": "code",
   "execution_count": null,
   "metadata": {},
   "outputs": [],
   "source": [
    "# 设置随机数种子\n",
    "random.seed(0)\n",
    "torch.manual_seed(0)\n",
    "torch.cuda.manual_seed(0)"
   ]
  },
  {
   "cell_type": "code",
   "execution_count": null,
   "metadata": {},
   "outputs": [],
   "source": [
    "data_dir = '../data/dog-breed-identification'  # 数据集目录\n",
    "label_file, train_dir, test_dir = 'labels.csv', 'train', 'test'  # data_dir中的文件夹、文件\n",
    "new_data_dir = './train_valid_test'  # 整理之后的数据存放的目录\n",
    "valid_ratio = 0.1  # 验证集所占比例"
   ]
  },
  {
   "cell_type": "code",
   "execution_count": null,
   "metadata": {},
   "outputs": [],
   "source": [
    "def mkdir_if_not_exist(path):\n",
    "    # 若目录path不存在，则创建目录\n",
    "    if not os.path.exists(os.path.join(*path)):\n",
    "        os.makedirs(os.path.join(*path))\n",
    "        \n",
    "def reorg_dog_data(data_dir, label_file, train_dir, test_dir, new_data_dir, valid_ratio):\n",
    "    # 读取训练数据标签\n",
    "    labels = pd.read_csv(os.path.join(data_dir, label_file))\n",
    "    id2label = {Id: label for Id, label in labels.values}  # (key: value): (id: label)\n",
    "\n",
    "    # 随机打乱训练数据\n",
    "    train_files = os.listdir(os.path.join(data_dir, train_dir))\n",
    "    random.shuffle(train_files)    \n",
    "\n",
    "    # 原训练集\n",
    "    valid_ds_size = int(len(train_files) * valid_ratio)  # 验证集大小\n",
    "    for i, file in enumerate(train_files):\n",
    "        img_id = file.split('.')[0]  # file是形式为id.jpg的字符串\n",
    "        img_label = id2label[img_id]\n",
    "        if i < valid_ds_size:\n",
    "            mkdir_if_not_exist([new_data_dir, 'valid', img_label])\n",
    "            shutil.copy(os.path.join(data_dir, train_dir, file),\n",
    "                        os.path.join(new_data_dir, 'valid', img_label))\n",
    "        else:\n",
    "            mkdir_if_not_exist([new_data_dir, 'train', img_label])\n",
    "            shutil.copy(os.path.join(data_dir, train_dir, file),\n",
    "                        os.path.join(new_data_dir, 'train', img_label))\n",
    "        mkdir_if_not_exist([new_data_dir, 'train_valid', img_label])\n",
    "        shutil.copy(os.path.join(data_dir, train_dir, file),\n",
    "                    os.path.join(new_data_dir, 'train_valid', img_label))\n",
    "\n",
    "    # 测试集\n",
    "    mkdir_if_not_exist([new_data_dir, 'test', 'unknown'])\n",
    "    for test_file in os.listdir(os.path.join(data_dir, test_dir)):\n",
    "        shutil.copy(os.path.join(data_dir, test_dir, test_file),\n",
    "                    os.path.join(new_data_dir, 'test', 'unknown'))"
   ]
  },
  {
   "cell_type": "code",
   "execution_count": null,
   "metadata": {},
   "outputs": [],
   "source": [
    "reorg_dog_data(data_dir, label_file, train_dir, test_dir, new_data_dir, valid_ratio)"
   ]
  },
  {
   "cell_type": "code",
   "execution_count": null,
   "metadata": {},
   "outputs": [],
   "source": [
    "transform_train = transforms.Compose([\n",
    "    # 随机对图像裁剪出面积为原图像面积0.08~1倍、且高和宽之比在3/4~4/3的图像，再放缩为高和宽均为224像素的新图像\n",
    "    transforms.RandomResizedCrop(224, scale=(0.08, 1.0),  \n",
    "                                 ratio=(3.0/4.0, 4.0/3.0)),\n",
    "    # 以0.5的概率随机水平翻转\n",
    "    transforms.RandomHorizontalFlip(),\n",
    "    # 随机更改亮度、对比度和饱和度\n",
    "    transforms.ColorJitter(brightness=0.4, contrast=0.4, saturation=0.4),\n",
    "    transforms.ToTensor(),\n",
    "    # 对各个通道做标准化，(0.485, 0.456, 0.406)和(0.229, 0.224, 0.225)是在ImageNet上计算得的各通道均值与方差\n",
    "    transforms.Normalize([0.485, 0.456, 0.406], [0.229, 0.224, 0.225])  # ImageNet上的均值和方差\n",
    "])\n",
    "\n",
    "# 在测试集上的图像增强只做确定性的操作\n",
    "transform_test = transforms.Compose([\n",
    "    transforms.Resize(256),\n",
    "    # 将图像中央的高和宽均为224的正方形区域裁剪出来\n",
    "    transforms.CenterCrop(224),\n",
    "    transforms.ToTensor(),\n",
    "    transforms.Normalize([0.485, 0.456, 0.406], [0.229, 0.224, 0.225])\n",
    "])"
   ]
  },
  {
   "cell_type": "code",
   "execution_count": null,
   "metadata": {},
   "outputs": [],
   "source": [
    "# new_data_dir目录下有train, valid, train_valid, test四个目录\n",
    "# 这四个目录中，每个子目录表示一种类别，目录中是属于该类别的所有图像\n",
    "train_ds = torchvision.datasets.ImageFolder(root=os.path.join(new_data_dir, 'train'),\n",
    "                                            transform=transform_train)\n",
    "valid_ds = torchvision.datasets.ImageFolder(root=os.path.join(new_data_dir, 'valid'),\n",
    "                                            transform=transform_test)\n",
    "train_valid_ds = torchvision.datasets.ImageFolder(root=os.path.join(new_data_dir, 'train_valid'),\n",
    "                                            transform=transform_train)\n",
    "test_ds = torchvision.datasets.ImageFolder(root=os.path.join(new_data_dir, 'test'),\n",
    "                                            transform=transform_test)"
   ]
  },
  {
   "cell_type": "code",
   "execution_count": null,
   "metadata": {},
   "outputs": [],
   "source": [
    "batch_size = 128\n",
    "train_iter = torch.utils.data.DataLoader(train_ds, batch_size=batch_size, shuffle=True)\n",
    "valid_iter = torch.utils.data.DataLoader(valid_ds, batch_size=batch_size, shuffle=True)\n",
    "train_valid_iter = torch.utils.data.DataLoader(train_valid_ds, batch_size=batch_size, shuffle=True)\n",
    "test_iter = torch.utils.data.DataLoader(test_ds, batch_size=batch_size, shuffle=False)  # shuffle=False"
   ]
  },
  {
   "cell_type": "code",
   "execution_count": null,
   "metadata": {},
   "outputs": [],
   "source": [
    "def get_net(device):\n",
    "    finetune_net = models.resnet34(pretrained=False)  # 预训练的resnet34网络\n",
    "    finetune_net.load_state_dict(torch.load('/home/kesci/input/resnet347742/resnet34-333f7ec4.pth'))\n",
    "    for param in finetune_net.parameters():  # 冻结参数\n",
    "        param.requires_grad = False\n",
    "    # 原finetune_net.fc是一个输入单元数为512，输出单元数为1000的全连接层\n",
    "    # 替换掉原finetune_net.fc，新finetuen_net.fc中的模型参数会记录梯度\n",
    "    finetune_net.fc = nn.Sequential(\n",
    "        nn.Linear(in_features=512, out_features=256),\n",
    "        nn.ReLU(),\n",
    "        nn.Linear(in_features=256, out_features=120)  # 120是输出类别数\n",
    "    )\n",
    "    return finetune_net"
   ]
  },
  {
   "cell_type": "code",
   "execution_count": null,
   "metadata": {},
   "outputs": [],
   "source": [
    "def evaluate_loss_acc(data_iter, net, device):\n",
    "    # 计算data_iter上的平均损失与准确率\n",
    "    loss = nn.CrossEntropyLoss()\n",
    "    is_training = net.training  # Bool net是否处于train模式\n",
    "    net.eval()\n",
    "    l_sum, acc_sum, n = 0, 0, 0\n",
    "    with torch.no_grad():\n",
    "        for X, y in data_iter:\n",
    "            X, y = X.to(device), y.to(device)\n",
    "            y_hat = net(X)\n",
    "            l = loss(y_hat, y)\n",
    "            l_sum += l.item() * y.shape[0]\n",
    "            acc_sum += (y_hat.argmax(dim=1) == y).sum().item()\n",
    "            n += y.shape[0]\n",
    "    net.train(is_training)  # 恢复net的train/eval状态\n",
    "    return l_sum / n, acc_sum / n"
   ]
  },
  {
   "cell_type": "code",
   "execution_count": null,
   "metadata": {},
   "outputs": [],
   "source": [
    "def train(net, train_iter, valid_iter, num_epochs, lr, wd, device, lr_period,\n",
    "          lr_decay):\n",
    "    loss = nn.CrossEntropyLoss()\n",
    "    optimizer = optim.SGD(net.fc.parameters(), lr=lr, momentum=0.9, weight_decay=wd)\n",
    "    net = net.to(device)\n",
    "    for epoch in range(num_epochs):\n",
    "        train_l_sum, n, start = 0.0, 0, time.time()\n",
    "        if epoch > 0 and epoch % lr_period == 0:  # 每lr_period个epoch，学习率衰减一次\n",
    "            lr = lr * lr_decay\n",
    "            for param_group in optimizer.param_groups:\n",
    "                param_group['lr'] = lr\n",
    "        for X, y in train_iter:\n",
    "            X, y = X.to(device), y.to(device)\n",
    "            optimizer.zero_grad()\n",
    "            y_hat = net(X)\n",
    "            l = loss(y_hat, y)\n",
    "            l.backward()\n",
    "            optimizer.step()\n",
    "            train_l_sum += l.item() * y.shape[0]\n",
    "            n += y.shape[0]\n",
    "        time_s = \"time %.2f sec\" % (time.time() - start)\n",
    "        if valid_iter is not None:\n",
    "            valid_loss, valid_acc = evaluate_loss_acc(valid_iter, net, device)\n",
    "            epoch_s = (\"epoch %d, train loss %f, valid loss %f, valid acc %f, \"\n",
    "                       % (epoch + 1, train_l_sum / n, valid_loss, valid_acc))\n",
    "        else:\n",
    "            epoch_s = (\"epoch %d, train loss %f, \"\n",
    "                       % (epoch + 1, train_l_sum / n))\n",
    "        print(epoch_s + time_s + ', lr ' + str(lr))"
   ]
  },
  {
   "cell_type": "code",
   "execution_count": null,
   "metadata": {},
   "outputs": [],
   "source": [
    "num_epochs, lr_period, lr_decay = 20, 10, 0.1\n",
    "lr, wd = 0.03, 1e-4\n",
    "device = torch.device('cuda' if torch.cuda.is_available() else 'cpu')"
   ]
  },
  {
   "cell_type": "code",
   "execution_count": null,
   "metadata": {},
   "outputs": [],
   "source": [
    "net = get_net(device)\n",
    "train(net, train_iter, valid_iter, num_epochs, lr, wd, device, lr_period, lr_decay)"
   ]
  },
  {
   "cell_type": "code",
   "execution_count": null,
   "metadata": {},
   "outputs": [],
   "source": [
    "# 使用上面的参数设置，在完整数据集上训练模型大致需要40-50分钟的时间\n",
    "net = get_net(device)\n",
    "train(net, train_valid_iter, None, num_epochs, lr, wd, device, lr_period, lr_decay)"
   ]
  },
  {
   "cell_type": "code",
   "execution_count": null,
   "metadata": {},
   "outputs": [],
   "source": [
    "preds = []\n",
    "for X, _ in test_iter:\n",
    "    X = X.to(device)\n",
    "    output = net(X)\n",
    "    output = torch.softmax(output, dim=1)\n",
    "    preds += output.tolist()\n",
    "ids = sorted(os.listdir(os.path.join(new_data_dir, 'test/unknown')))\n",
    "with open('submission.csv', 'w') as f:\n",
    "    f.write('id,' + ','.join(train_valid_ds.classes) + '\\n')\n",
    "    for i, output in zip(ids, preds):\n",
    "        f.write(i.split('.')[0] + ',' + ','.join(\n",
    "            [str(num) for num in output]) + '\\n')"
   ]
  }
 ],
 "metadata": {
  "kernelspec": {
   "display_name": "Python 3",
   "language": "python",
   "name": "python3"
  },
  "language_info": {
   "codemirror_mode": {
    "name": "ipython",
    "version": 3
   },
   "file_extension": ".py",
   "mimetype": "text/x-python",
   "name": "python",
   "nbconvert_exporter": "python",
   "pygments_lexer": "ipython3",
   "version": "3.6.4"
  },
  "varInspector": {
   "cols": {
    "lenName": 16,
    "lenType": 16,
    "lenVar": 40
   },
   "kernels_config": {
    "python": {
     "delete_cmd_postfix": "",
     "delete_cmd_prefix": "del ",
     "library": "var_list.py",
     "varRefreshCmd": "print(var_dic_list())"
    },
    "r": {
     "delete_cmd_postfix": ") ",
     "delete_cmd_prefix": "rm(",
     "library": "var_list.r",
     "varRefreshCmd": "cat(var_dic_list()) "
    }
   },
   "types_to_exclude": [
    "module",
    "function",
    "builtin_function_or_method",
    "instance",
    "_Feature"
   ],
   "window_display": false
  }
 },
 "nbformat": 4,
 "nbformat_minor": 2
}
